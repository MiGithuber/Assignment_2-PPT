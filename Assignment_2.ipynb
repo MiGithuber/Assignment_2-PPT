{
 "cells": [
  {
   "cell_type": "code",
   "execution_count": 5,
   "id": "876de8fe-150e-47b0-8670-aef0289de1a5",
   "metadata": {},
   "outputs": [
    {
     "name": "stdout",
     "output_type": "stream",
     "text": [
      "6\n"
     ]
    }
   ],
   "source": [
    "# 5) \n",
    "def maximum_product(nums):\n",
    "    nums.sort()  # Sort the array in non-decreasing order\n",
    "    n = len(nums)\n",
    "    \n",
    "    # Calculate the two possible products\n",
    "    product1 = nums[n-1] * nums[n-2] * nums[n-3]  # Product of last three elements\n",
    "    product2 = nums[0] * nums[1] * nums[n-1]     # Product of first two and last element\n",
    "    \n",
    "    # Return the maximum product\n",
    "    return max(product1, product2)\n",
    "#  Driver's code\n",
    "nums=[1,2,3]\n",
    "result=maximum_product(nums)\n",
    "print(result)"
   ]
  },
  {
   "cell_type": "code",
   "execution_count": 3,
   "id": "750009dc-5cea-493f-9a0a-29f10f031c22",
   "metadata": {},
   "outputs": [
    {
     "name": "stdout",
     "output_type": "stream",
     "text": [
      "4\n"
     ]
    }
   ],
   "source": [
    "#6) \n",
    "def Binarysearch(nums, target):\n",
    "    low, high = 0, len(nums) - 1\n",
    "\n",
    "    while low <= high:\n",
    "        mid = (low + high) // 2\n",
    "\n",
    "        if nums[mid] == target:\n",
    "            return mid\n",
    "        elif nums[mid] < target:\n",
    "            low = mid + 1\n",
    "        else:\n",
    "            high = mid - 1\n",
    "\n",
    "    return -1\n",
    "#Driver's code\n",
    "nums = [-1,0,3,5,9,12]\n",
    "target=9\n",
    "result=Binarysearch(nums, target)\n",
    "print(result)"
   ]
  },
  {
   "cell_type": "code",
   "execution_count": 4,
   "id": "6129cc2a-d23f-4b52-bf5c-d267e31247f7",
   "metadata": {},
   "outputs": [
    {
     "name": "stdout",
     "output_type": "stream",
     "text": [
      "True\n"
     ]
    }
   ],
   "source": [
    "#7)\n",
    "def is_monotonic(nums):\n",
    "    isIncreasing = True\n",
    "    isDecreasing = True\n",
    "\n",
    "    for i in range(1, len(nums)):\n",
    "        if nums[i] > nums[i - 1]:\n",
    "            isDecreasing = False\n",
    "        elif nums[i] < nums[i - 1]:\n",
    "            isIncreasing = False\n",
    "\n",
    "        if not isIncreasing and not isDecreasing:\n",
    "            return False\n",
    "\n",
    "    return True\n",
    "\n",
    "#Driver's code\n",
    "nums = [1,2,2,3]\n",
    "result=is_monotonic(nums)\n",
    "print(result)"
   ]
  },
  {
   "cell_type": "code",
   "execution_count": 6,
   "id": "5e74131c-ce20-4069-8de3-635ed9bec1a5",
   "metadata": {},
   "outputs": [
    {
     "name": "stdout",
     "output_type": "stream",
     "text": [
      "4\n"
     ]
    }
   ],
   "source": [
    "#1)\n",
    "def array_pair_sum(nums):\n",
    "    nums.sort()  # Sort the array in ascending order\n",
    "    n = len(nums) // 2\n",
    "    max_sum = 0\n",
    "\n",
    "    for i in range(0, n * 2, 2):\n",
    "        max_sum += nums[i]\n",
    "\n",
    "    return max_sum\n",
    "\n",
    "#Driver's code\n",
    "nums=[1,4,3,2]\n",
    "result=array_pair_sum(nums)\n",
    "print(result)"
   ]
  },
  {
   "cell_type": "code",
   "execution_count": 15,
   "id": "bdbf8e54-52fd-49f0-9ef9-0d7c1e16d2b4",
   "metadata": {},
   "outputs": [
    {
     "name": "stdout",
     "output_type": "stream",
     "text": [
      "{1, 2, 3}\n",
      "3\n"
     ]
    }
   ],
   "source": [
    "def max_num_types(candyType):\n",
    "    unique_candies = set(candyType)  # Count unique candy types\n",
    "    print(unique_candies)\n",
    "    max_types = min(len(unique_candies), len(candyType) // 2) # Calculate maximum number of types\n",
    "    return max_types\n",
    "\n",
    "candyType = [1,1,2,2,3,3]\n",
    "result=max_num_types(candyType)\n",
    "print(result)"
   ]
  },
  {
   "cell_type": "code",
   "execution_count": null,
   "id": "e62c92f3-e015-4386-8d8c-f3d064cf65c2",
   "metadata": {},
   "outputs": [],
   "source": []
  }
 ],
 "metadata": {
  "kernelspec": {
   "display_name": "Python 3 (ipykernel)",
   "language": "python",
   "name": "python3"
  },
  "language_info": {
   "codemirror_mode": {
    "name": "ipython",
    "version": 3
   },
   "file_extension": ".py",
   "mimetype": "text/x-python",
   "name": "python",
   "nbconvert_exporter": "python",
   "pygments_lexer": "ipython3",
   "version": "3.10.8"
  }
 },
 "nbformat": 4,
 "nbformat_minor": 5
}
